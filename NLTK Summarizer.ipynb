{
 "cells": [
  {
   "cell_type": "markdown",
   "metadata": {},
   "source": [
    "# Step [1]: Prepare libraries and data\n",
    "### [1.1] Include important libraries"
   ]
  },
  {
   "cell_type": "code",
   "execution_count": 6,
   "metadata": {},
   "outputs": [],
   "source": [
    "import re\n",
    "import heapq  \n",
    "import pickle\n",
    "import pandas as pd\n",
    "import numpy as np\n",
    "\n",
    "#import Nltk\n",
    "import nltk\n",
    "from string import punctuation\n",
    "from nltk.corpus import stopwords\n",
    "punctuation = punctuation + '\\n'\n",
    "from nltk.stem.isri import ISRIStemmer\n",
    "from nltk.tokenize import word_tokenize, sent_tokenize\n",
    "\n",
    "#import train model\n",
    "from sklearn.preprocessing import LabelEncoder\n",
    "from sklearn.model_selection import train_test_split\n",
    "from sklearn.feature_extraction.text import TfidfVectorizer\n",
    "from sklearn.ensemble import RandomForestClassifier\n",
    "from sklearn.metrics import accuracy_score\n",
    "\n",
    "#import Model\n",
    "from sklearn.linear_model import LogisticRegression,RidgeClassifier\n",
    "from sklearn.neighbors import KNeighborsClassifier\n",
    "from sklearn.tree import DecisionTreeClassifier\n",
    "from sklearn.naive_bayes import GaussianNB"
   ]
  },
  {
   "cell_type": "markdown",
   "metadata": {},
   "source": [
    "### [1.2] Text categories:"
   ]
  },
  {
   "cell_type": "code",
   "execution_count": 4,
   "metadata": {},
   "outputs": [],
   "source": [
    "categories = ['Economy & Business', 'Diverse News', 'Politic', 'Sport', 'Technology']"
   ]
  },
  {
   "cell_type": "markdown",
   "metadata": {},
   "source": [
    "### [1.3] Building the summerizer:"
   ]
  },
  {
   "cell_type": "code",
   "execution_count": 5,
   "metadata": {},
   "outputs": [],
   "source": [
    "def nltk_summarizer(input_text, number_of_sentence):\n",
    "    stopWords = set(nltk.corpus.stopwords.words(\"arabic\") + nltk.corpus.stopwords.words(\"english\"))\n",
    "    word_frequencies = {}  \n",
    "    for word in nltk.word_tokenize(input_text):  \n",
    "        if word not in stopWords:\n",
    "            if word not in punctuation:\n",
    "                if word not in word_frequencies.keys():\n",
    "                    word_frequencies[word] = 1\n",
    "                else:\n",
    "                    word_frequencies[word] += 1\n",
    "\n",
    "    maximum_frequncy = max(word_frequencies.values())\n",
    "\n",
    "    for word in word_frequencies.keys():  \n",
    "        word_frequencies[word] = (word_frequencies[word]/maximum_frequncy)\n",
    "\n",
    "    sentence_list = nltk.sent_tokenize(input_text)\n",
    "    sentence_scores = {}  \n",
    "    for sent in sentence_list:  \n",
    "        for word in nltk.word_tokenize(sent.lower()):\n",
    "            if word in word_frequencies.keys():\n",
    "                if len(sent.split(' ')) < 30:\n",
    "                    if sent not in sentence_scores.keys():\n",
    "                        sentence_scores[sent] = word_frequencies[word]\n",
    "                    else:\n",
    "                        sentence_scores[sent] += word_frequencies[word]\n",
    "\n",
    "    summary_sentences = heapq.nlargest(number_of_sentence, sentence_scores, key=sentence_scores.get)\n",
    "\n",
    "    summary = ' '.join(summary_sentences)  \n",
    "    return summary"
   ]
  },
  {
   "cell_type": "markdown",
   "metadata": {},
   "source": [
    "### [1.4] Reading dataset file:"
   ]
  },
  {
   "cell_type": "code",
   "execution_count": 6,
   "metadata": {},
   "outputs": [
    {
     "data": {
      "text/html": [
       "<div>\n",
       "<style scoped>\n",
       "    .dataframe tbody tr th:only-of-type {\n",
       "        vertical-align: middle;\n",
       "    }\n",
       "\n",
       "    .dataframe tbody tr th {\n",
       "        vertical-align: top;\n",
       "    }\n",
       "\n",
       "    .dataframe thead th {\n",
       "        text-align: right;\n",
       "    }\n",
       "</style>\n",
       "<table border=\"1\" class=\"dataframe\">\n",
       "  <thead>\n",
       "    <tr style=\"text-align: right;\">\n",
       "      <th></th>\n",
       "      <th>ArticleId</th>\n",
       "      <th>Text</th>\n",
       "      <th>Category</th>\n",
       "    </tr>\n",
       "  </thead>\n",
       "  <tbody>\n",
       "    <tr>\n",
       "      <th>229</th>\n",
       "      <td>1128</td>\n",
       "      <td>my memories of marley...  to mark the 60th ann...</td>\n",
       "      <td>diverse news</td>\n",
       "    </tr>\n",
       "    <tr>\n",
       "      <th>71</th>\n",
       "      <td>2144</td>\n",
       "      <td>camera phones are  must-haves  four times more...</td>\n",
       "      <td>tech</td>\n",
       "    </tr>\n",
       "    <tr>\n",
       "      <th>257</th>\n",
       "      <td>878</td>\n",
       "      <td>nintendo handheld given euro date nintendo s n...</td>\n",
       "      <td>tech</td>\n",
       "    </tr>\n",
       "    <tr>\n",
       "      <th>1424</th>\n",
       "      <td>1089</td>\n",
       "      <td>germany calls for eu reform german chancellor ...</td>\n",
       "      <td>economy &amp; business</td>\n",
       "    </tr>\n",
       "    <tr>\n",
       "      <th>202</th>\n",
       "      <td>147</td>\n",
       "      <td>clyde 0-5 celtic celtic brushed aside clyde to...</td>\n",
       "      <td>sport</td>\n",
       "    </tr>\n",
       "    <tr>\n",
       "      <th>839</th>\n",
       "      <td>2020</td>\n",
       "      <td>actor foxx sees globe nominations us actor jam...</td>\n",
       "      <td>diverse news</td>\n",
       "    </tr>\n",
       "    <tr>\n",
       "      <th>995</th>\n",
       "      <td>1827</td>\n",
       "      <td>yelling takes cardiff hat-trick european cross...</td>\n",
       "      <td>sport</td>\n",
       "    </tr>\n",
       "    <tr>\n",
       "      <th>66</th>\n",
       "      <td>1079</td>\n",
       "      <td>stalemate in pension strike talks talks aimed ...</td>\n",
       "      <td>politics</td>\n",
       "    </tr>\n",
       "    <tr>\n",
       "      <th>604</th>\n",
       "      <td>53</td>\n",
       "      <td>standard life cuts policy bonuses standard lif...</td>\n",
       "      <td>economy &amp; business</td>\n",
       "    </tr>\n",
       "    <tr>\n",
       "      <th>1441</th>\n",
       "      <td>816</td>\n",
       "      <td>gangsters dominate gaming chart video games on...</td>\n",
       "      <td>tech</td>\n",
       "    </tr>\n",
       "  </tbody>\n",
       "</table>\n",
       "</div>"
      ],
      "text/plain": [
       "      ArticleId                                               Text  \\\n",
       "229        1128  my memories of marley...  to mark the 60th ann...   \n",
       "71         2144  camera phones are  must-haves  four times more...   \n",
       "257         878  nintendo handheld given euro date nintendo s n...   \n",
       "1424       1089  germany calls for eu reform german chancellor ...   \n",
       "202         147  clyde 0-5 celtic celtic brushed aside clyde to...   \n",
       "839        2020  actor foxx sees globe nominations us actor jam...   \n",
       "995        1827  yelling takes cardiff hat-trick european cross...   \n",
       "66         1079  stalemate in pension strike talks talks aimed ...   \n",
       "604          53  standard life cuts policy bonuses standard lif...   \n",
       "1441        816  gangsters dominate gaming chart video games on...   \n",
       "\n",
       "                Category  \n",
       "229         diverse news  \n",
       "71                  tech  \n",
       "257                 tech  \n",
       "1424  economy & business  \n",
       "202                sport  \n",
       "839         diverse news  \n",
       "995                sport  \n",
       "66              politics  \n",
       "604   economy & business  \n",
       "1441                tech  "
      ]
     },
     "execution_count": 6,
     "metadata": {},
     "output_type": "execute_result"
    }
   ],
   "source": [
    "en_data = pd.read_csv(r\"dataset/bbc_news_dataset.csv\")\n",
    "en_data = en_data.replace(\"entertainment\", \"diverse news\")\n",
    "en_data = en_data.replace(\"business\", \"economy & business\")\n",
    "en_data.sample(10)\n"
   ]
  },
  {
   "cell_type": "code",
   "execution_count": 7,
   "metadata": {},
   "outputs": [
    {
     "data": {
      "text/html": [
       "<div>\n",
       "<style scoped>\n",
       "    .dataframe tbody tr th:only-of-type {\n",
       "        vertical-align: middle;\n",
       "    }\n",
       "\n",
       "    .dataframe tbody tr th {\n",
       "        vertical-align: top;\n",
       "    }\n",
       "\n",
       "    .dataframe thead th {\n",
       "        text-align: right;\n",
       "    }\n",
       "</style>\n",
       "<table border=\"1\" class=\"dataframe\">\n",
       "  <thead>\n",
       "    <tr style=\"text-align: right;\">\n",
       "      <th></th>\n",
       "      <th>Unnamed: 0</th>\n",
       "      <th>text</th>\n",
       "      <th>type</th>\n",
       "    </tr>\n",
       "  </thead>\n",
       "  <tbody>\n",
       "    <tr>\n",
       "      <th>1000</th>\n",
       "      <td>73</td>\n",
       "      <td>\\nارتفع عدد قتلى جنود الاحتلال إلى أربعة جنود ...</td>\n",
       "      <td>politics</td>\n",
       "    </tr>\n",
       "    <tr>\n",
       "      <th>2757</th>\n",
       "      <td>575</td>\n",
       "      <td>\\nقال رئيس الجمهورية، الباجي قايد السبسي، الرئ...</td>\n",
       "      <td>politics</td>\n",
       "    </tr>\n",
       "    <tr>\n",
       "      <th>3581</th>\n",
       "      <td>657</td>\n",
       "      <td>\\nأكد السيد عماد الجبري كاتب الدولة للرياضة في...</td>\n",
       "      <td>sport</td>\n",
       "    </tr>\n",
       "    <tr>\n",
       "      <th>3587</th>\n",
       "      <td>663</td>\n",
       "      <td>\\nانهزم المنتخب الوطني للكرة الطائرة امس الجمع...</td>\n",
       "      <td>sport</td>\n",
       "    </tr>\n",
       "    <tr>\n",
       "      <th>1285</th>\n",
       "      <td>358</td>\n",
       "      <td>\\nأعلنت قوات حرس الثورة الإسلامية في إيران أنه...</td>\n",
       "      <td>politics</td>\n",
       "    </tr>\n",
       "    <tr>\n",
       "      <th>4240</th>\n",
       "      <td>1316</td>\n",
       "      <td>\\nتأهل نادي برشلونة الى نهائي كأس ملك اسبانيا ...</td>\n",
       "      <td>sport</td>\n",
       "    </tr>\n",
       "    <tr>\n",
       "      <th>3215</th>\n",
       "      <td>291</td>\n",
       "      <td>\\nذكرت صحيفة \"موندو ديبورتيفو\" الإسبانية، أن ل...</td>\n",
       "      <td>sport</td>\n",
       "    </tr>\n",
       "    <tr>\n",
       "      <th>1636</th>\n",
       "      <td>709</td>\n",
       "      <td>\\nقال الرئيس الأمريكي دونالد ترامب إنه \"سيتشرف...</td>\n",
       "      <td>politics</td>\n",
       "    </tr>\n",
       "    <tr>\n",
       "      <th>3969</th>\n",
       "      <td>1045</td>\n",
       "      <td>\\nدارت اليوم مقابلات الدفعة الثانية من مقابلات...</td>\n",
       "      <td>sport</td>\n",
       "    </tr>\n",
       "    <tr>\n",
       "      <th>2517</th>\n",
       "      <td>335</td>\n",
       "      <td>\\nردّ سمير الطيب على موجة الانتقادات التي رافق...</td>\n",
       "      <td>politics</td>\n",
       "    </tr>\n",
       "  </tbody>\n",
       "</table>\n",
       "</div>"
      ],
      "text/plain": [
       "      Unnamed: 0                                               text      type\n",
       "1000          73  \\nارتفع عدد قتلى جنود الاحتلال إلى أربعة جنود ...  politics\n",
       "2757         575  \\nقال رئيس الجمهورية، الباجي قايد السبسي، الرئ...  politics\n",
       "3581         657  \\nأكد السيد عماد الجبري كاتب الدولة للرياضة في...     sport\n",
       "3587         663  \\nانهزم المنتخب الوطني للكرة الطائرة امس الجمع...     sport\n",
       "1285         358  \\nأعلنت قوات حرس الثورة الإسلامية في إيران أنه...  politics\n",
       "4240        1316  \\nتأهل نادي برشلونة الى نهائي كأس ملك اسبانيا ...     sport\n",
       "3215         291  \\nذكرت صحيفة \"موندو ديبورتيفو\" الإسبانية، أن ل...     sport\n",
       "1636         709  \\nقال الرئيس الأمريكي دونالد ترامب إنه \"سيتشرف...  politics\n",
       "3969        1045  \\nدارت اليوم مقابلات الدفعة الثانية من مقابلات...     sport\n",
       "2517         335  \\nردّ سمير الطيب على موجة الانتقادات التي رافق...  politics"
      ]
     },
     "execution_count": 7,
     "metadata": {},
     "output_type": "execute_result"
    }
   ],
   "source": [
    "ar_data = pd.read_csv(r\"dataset/arabic_dataset.csv\")\n",
    "ar_data = ar_data.replace(\"diverse\", \"diverse news\")\n",
    "ar_data = ar_data.replace(\"culture\", \"diverse news\")\n",
    "ar_data = ar_data.replace(\"politic\", \"politics\")\n",
    "ar_data = ar_data.replace(\"technology\", \"tech\")\n",
    "ar_data = ar_data.replace(\"economy\", \"economy & business\")\n",
    "ar_data = ar_data.replace(\"internationalNews\", \"politics\")\n",
    "ar_data = ar_data[~ar_data['type'].str.contains('localnews')]\n",
    "ar_data = ar_data[~ar_data['type'].str.contains('society')]\n",
    "ar_data.sample(10)"
   ]
  },
  {
   "cell_type": "markdown",
   "metadata": {},
   "source": [
    "# Step [2]: Data sterilization\n",
    "### [2.1] Delete links:\n",
    "This will remove all links from the text and it's include the following:\n",
    "- Matches http protocols like [**http:// or https://**].\n",
    "- Match optional whitespaces after http protocols.\n",
    "- Optionally matches including the [**www.**] or not.\n",
    "- Optionally matches whitespaces in the links.\n",
    "- Matches 0 or more of one or more word characters followed by a period.\n",
    "- Matches 0 or more of one or more words (or a dash or a space) followed by [**\\\\**].\n",
    "- Any remaining path at the end of the url followed by an optional ending.\n",
    "- Matches ending query params (even with white spaces, etc)."
   ]
  },
  {
   "cell_type": "code",
   "execution_count": 8,
   "metadata": {},
   "outputs": [],
   "source": [
    "def delete_links(input_text):\n",
    "    pettern  = r'''(?i)\\b((?:https?://|www\\d{0,3}[.]|[a-z0-9.\\-]+[.][a-z]{2,4}/)(?:[^\\s()<>]+|\\(([^\\s()<>]+|(\\([^\\s()<>]+\\)))*\\))+(?:\\(([^\\s()<>]+|(\\([^\\s()<>]+\\)))*\\)|[^\\s`!()\\[\\]{};:'\".,<>?«»“”‘’]))'''\n",
    "    out_text = re.sub(pettern, ' ', input_text)\n",
    "    return out_text"
   ]
  },
  {
   "cell_type": "markdown",
   "metadata": {},
   "source": [
    "### [2.2] Fixing word lengthening:\n",
    "Word lengthening occurs when characters are wrongly repeated. English words have a max of two repeated characters like the words [**wood, school**]. Additional characters need to ripped off, otherwise we might add misleading information."
   ]
  },
  {
   "cell_type": "code",
   "execution_count": 9,
   "metadata": {},
   "outputs": [],
   "source": [
    "def delete_repeated_characters(input_text):\n",
    "    pattern  = r'(.)\\1{2,}'\n",
    "    out_text = re.sub(pattern, r\"\\1\\1\", input_text)\n",
    "    return out_text"
   ]
  },
  {
   "cell_type": "code",
   "execution_count": 10,
   "metadata": {},
   "outputs": [],
   "source": [
    "def replace_letters(input_text):\n",
    "    replace = {\"أ\": \"ا\",\"ة\": \"ه\",\"إ\": \"ا\",\"آ\": \"ا\",\"\": \"\"}\n",
    "    replace = dict((re.escape(k), v) for k, v in replace.items()) \n",
    "    pattern = re.compile(\"|\".join(replace.keys()))\n",
    "    out_text = pattern.sub(lambda m: replace[re.escape(m.group(0))], input_text)\n",
    "    return out_text"
   ]
  },
  {
   "cell_type": "markdown",
   "metadata": {},
   "source": [
    "### [2.3] Delete bad symbols:\n",
    "This method removes unwanted characters from the text, such as question marks, commas, star, plus ...etc."
   ]
  },
  {
   "cell_type": "code",
   "execution_count": 11,
   "metadata": {},
   "outputs": [],
   "source": [
    "def clean_text(input_text):\n",
    "    replace = r'[/(){}\\[\\]|@âÂ,;\\?\\'\\\"\\*…؟–’،!&\\+-:؛-]'\n",
    "    out_text = re.sub(replace, \" \", input_text)\n",
    "    words = nltk.word_tokenize(out_text)\n",
    "    words = [word for word in words if word.isalpha()]\n",
    "    out_text = ' '.join(words)\n",
    "    return out_text"
   ]
  },
  {
   "cell_type": "code",
   "execution_count": 12,
   "metadata": {},
   "outputs": [],
   "source": [
    "def remove_vowelization(input_text):\n",
    "    vowelization = re.compile(\"\"\" ّ|َ|ً|ُ|ٌ|ِ|ٍ|ْ|ـ\"\"\", re.VERBOSE)\n",
    "    out_text = re.sub(vowelization, '', input_text)\n",
    "    return out_text"
   ]
  },
  {
   "cell_type": "markdown",
   "metadata": {},
   "source": [
    "### [2.4] Delete stopwords:\n",
    "Like prepositions and hyphens words. for example [**and, in, or ...etc**]."
   ]
  },
  {
   "cell_type": "code",
   "execution_count": 13,
   "metadata": {},
   "outputs": [],
   "source": [
    "def delete_stopwords(input_text):\n",
    "    stop_words = set(nltk.corpus.stopwords.words(\"arabic\") + nltk.corpus.stopwords.words(\"english\"))\n",
    "    tokenizer = nltk.tokenize.WhitespaceTokenizer()\n",
    "    tokens = tokenizer.tokenize(input_text)\n",
    "    wnl = nltk.WordNetLemmatizer()\n",
    "    lemmatizedTokens =[wnl.lemmatize(t) for t in tokens]\n",
    "    out_text = [w for w in lemmatizedTokens if not w in stop_words]\n",
    "    out_text = ' '.join(out_text)\n",
    "    return out_text"
   ]
  },
  {
   "cell_type": "code",
   "execution_count": 14,
   "metadata": {},
   "outputs": [],
   "source": [
    "def stem_text(input_text):\n",
    "    st = ISRIStemmer()\n",
    "    tokenizer = nltk.tokenize.WhitespaceTokenizer()\n",
    "    tokens = tokenizer.tokenize(input_text)\n",
    "    out_text = [st.stem(w) for w in tokens]\n",
    "    out_text = ' '.join(out_text)\n",
    "    return out_text"
   ]
  },
  {
   "cell_type": "markdown",
   "metadata": {},
   "source": [
    "### [2.5] Text prepare:\n",
    "- Applay all previus functions to sterilize the input text.\n",
    "- Convert letters to lowercase to make all words in the text in the same letters sensitivity."
   ]
  },
  {
   "cell_type": "code",
   "execution_count": 15,
   "metadata": {},
   "outputs": [],
   "source": [
    "def text_prepare(input_text, ar_text):\n",
    "    out_text = delete_links(input_text)\n",
    "    out_text = delete_repeated_characters(out_text)\n",
    "    out_text = clean_text(out_text)\n",
    "    out_text = delete_stopwords(out_text)\n",
    "    if ar_text:\n",
    "        out_text = replace_letters(out_text)\n",
    "        out_text = remove_vowelization(out_text)\n",
    "        out_text = stem_text(out_text)\n",
    "    else:\n",
    "        out_text = out_text.lower()\n",
    "    return out_text"
   ]
  },
  {
   "cell_type": "code",
   "execution_count": 16,
   "metadata": {},
   "outputs": [
    {
     "data": {
      "text/html": [
       "<div>\n",
       "<style scoped>\n",
       "    .dataframe tbody tr th:only-of-type {\n",
       "        vertical-align: middle;\n",
       "    }\n",
       "\n",
       "    .dataframe tbody tr th {\n",
       "        vertical-align: top;\n",
       "    }\n",
       "\n",
       "    .dataframe thead th {\n",
       "        text-align: right;\n",
       "    }\n",
       "</style>\n",
       "<table border=\"1\" class=\"dataframe\">\n",
       "  <thead>\n",
       "    <tr style=\"text-align: right;\">\n",
       "      <th></th>\n",
       "      <th>ArticleId</th>\n",
       "      <th>Text</th>\n",
       "      <th>Category</th>\n",
       "      <th>Processed Text</th>\n",
       "    </tr>\n",
       "  </thead>\n",
       "  <tbody>\n",
       "    <tr>\n",
       "      <th>748</th>\n",
       "      <td>1583</td>\n",
       "      <td>martinez sees off vinci challenge veteran span...</td>\n",
       "      <td>sport</td>\n",
       "      <td>martinez see vinci challenge veteran spaniard ...</td>\n",
       "    </tr>\n",
       "    <tr>\n",
       "      <th>1091</th>\n",
       "      <td>1565</td>\n",
       "      <td>ultimate game  award for doom 3 sci-fi shooter...</td>\n",
       "      <td>tech</td>\n",
       "      <td>ultimate game award doom sci fi shooter doom h...</td>\n",
       "    </tr>\n",
       "    <tr>\n",
       "      <th>612</th>\n",
       "      <td>1570</td>\n",
       "      <td>schools to take part in mock poll record numbe...</td>\n",
       "      <td>politics</td>\n",
       "      <td>school take part mock poll record number schoo...</td>\n",
       "    </tr>\n",
       "    <tr>\n",
       "      <th>796</th>\n",
       "      <td>1183</td>\n",
       "      <td>three djs replace peel radio show the late joh...</td>\n",
       "      <td>diverse news</td>\n",
       "      <td>three dj replace peel radio show late john pee...</td>\n",
       "    </tr>\n",
       "    <tr>\n",
       "      <th>954</th>\n",
       "      <td>679</td>\n",
       "      <td>oscar host rock to keep it clean oscar host ch...</td>\n",
       "      <td>diverse news</td>\n",
       "      <td>oscar host rock keep clean oscar host chris ro...</td>\n",
       "    </tr>\n",
       "    <tr>\n",
       "      <th>763</th>\n",
       "      <td>268</td>\n",
       "      <td>cairn energy in indian gas find shares in cair...</td>\n",
       "      <td>economy &amp; business</td>\n",
       "      <td>cairn energy indian gas find share cairn energ...</td>\n",
       "    </tr>\n",
       "    <tr>\n",
       "      <th>381</th>\n",
       "      <td>1793</td>\n",
       "      <td>worldcom bosses  $54m payout ten former direct...</td>\n",
       "      <td>economy &amp; business</td>\n",
       "      <td>worldcom boss payout ten former director world...</td>\n",
       "    </tr>\n",
       "    <tr>\n",
       "      <th>98</th>\n",
       "      <td>1220</td>\n",
       "      <td>ryanair in $4bn boeing plane deal budget airli...</td>\n",
       "      <td>economy &amp; business</td>\n",
       "      <td>ryanair bn boeing plane deal budget airline ry...</td>\n",
       "    </tr>\n",
       "    <tr>\n",
       "      <th>990</th>\n",
       "      <td>199</td>\n",
       "      <td>portable playstation ready to go sony s playst...</td>\n",
       "      <td>tech</td>\n",
       "      <td>portable playstation ready go sony playstation...</td>\n",
       "    </tr>\n",
       "    <tr>\n",
       "      <th>1315</th>\n",
       "      <td>774</td>\n",
       "      <td>blackburn v burnley ewood park  tuesday  1 mar...</td>\n",
       "      <td>sport</td>\n",
       "      <td>blackburn v burnley ewood park tuesday march g...</td>\n",
       "    </tr>\n",
       "  </tbody>\n",
       "</table>\n",
       "</div>"
      ],
      "text/plain": [
       "      ArticleId                                               Text  \\\n",
       "748        1583  martinez sees off vinci challenge veteran span...   \n",
       "1091       1565  ultimate game  award for doom 3 sci-fi shooter...   \n",
       "612        1570  schools to take part in mock poll record numbe...   \n",
       "796        1183  three djs replace peel radio show the late joh...   \n",
       "954         679  oscar host rock to keep it clean oscar host ch...   \n",
       "763         268  cairn energy in indian gas find shares in cair...   \n",
       "381        1793  worldcom bosses  $54m payout ten former direct...   \n",
       "98         1220  ryanair in $4bn boeing plane deal budget airli...   \n",
       "990         199  portable playstation ready to go sony s playst...   \n",
       "1315        774  blackburn v burnley ewood park  tuesday  1 mar...   \n",
       "\n",
       "                Category                                     Processed Text  \n",
       "748                sport  martinez see vinci challenge veteran spaniard ...  \n",
       "1091                tech  ultimate game award doom sci fi shooter doom h...  \n",
       "612             politics  school take part mock poll record number schoo...  \n",
       "796         diverse news  three dj replace peel radio show late john pee...  \n",
       "954         diverse news  oscar host rock keep clean oscar host chris ro...  \n",
       "763   economy & business  cairn energy indian gas find share cairn energ...  \n",
       "381   economy & business  worldcom boss payout ten former director world...  \n",
       "98    economy & business  ryanair bn boeing plane deal budget airline ry...  \n",
       "990                 tech  portable playstation ready go sony playstation...  \n",
       "1315               sport  blackburn v burnley ewood park tuesday march g...  "
      ]
     },
     "execution_count": 16,
     "metadata": {},
     "output_type": "execute_result"
    }
   ],
   "source": [
    "en_data['Processed Text'] = en_data['Text'].apply(text_prepare, args=(False,))\n",
    "en_data.sample(10)"
   ]
  },
  {
   "cell_type": "code",
   "execution_count": 17,
   "metadata": {},
   "outputs": [
    {
     "data": {
      "text/html": [
       "<div>\n",
       "<style scoped>\n",
       "    .dataframe tbody tr th:only-of-type {\n",
       "        vertical-align: middle;\n",
       "    }\n",
       "\n",
       "    .dataframe tbody tr th {\n",
       "        vertical-align: top;\n",
       "    }\n",
       "\n",
       "    .dataframe thead th {\n",
       "        text-align: right;\n",
       "    }\n",
       "</style>\n",
       "<table border=\"1\" class=\"dataframe\">\n",
       "  <thead>\n",
       "    <tr style=\"text-align: right;\">\n",
       "      <th></th>\n",
       "      <th>Unnamed: 0</th>\n",
       "      <th>text</th>\n",
       "      <th>type</th>\n",
       "      <th>Processed Text</th>\n",
       "    </tr>\n",
       "  </thead>\n",
       "  <tbody>\n",
       "    <tr>\n",
       "      <th>3839</th>\n",
       "      <td>915</td>\n",
       "      <td>\\nتخوض الاندية التونسية يومي 20 و 21 جوان 2017...</td>\n",
       "      <td>sport</td>\n",
       "      <td>تخض ديه ونس يوم قبل جول ربع دور جمع لمسابقتي ر...</td>\n",
       "    </tr>\n",
       "    <tr>\n",
       "      <th>1950</th>\n",
       "      <td>1023</td>\n",
       "      <td>\\nأقدمت مصورة مجرية على عرقلة أحد اللاجئين الس...</td>\n",
       "      <td>politics</td>\n",
       "      <td>قدم صور جره عرقل لجئ سور حمل طفل وقع ارض وذل خ...</td>\n",
       "    </tr>\n",
       "    <tr>\n",
       "      <th>1937</th>\n",
       "      <td>1010</td>\n",
       "      <td>\\nقدم وزير العدل الهولندي أرد فان دير ستيور اس...</td>\n",
       "      <td>politics</td>\n",
       "      <td>قدم وزر عدل هولند ارد فان دير تير استقالته خمس...</td>\n",
       "    </tr>\n",
       "    <tr>\n",
       "      <th>1275</th>\n",
       "      <td>348</td>\n",
       "      <td>\\nقال قائد القوات البحرية الإيرانية إن طهران ب...</td>\n",
       "      <td>politics</td>\n",
       "      <td>قال قئد قوت بحر يرن طهر بدت درب بحر خلج حيط هن...</td>\n",
       "    </tr>\n",
       "    <tr>\n",
       "      <th>994</th>\n",
       "      <td>67</td>\n",
       "      <td>\\nكشف وزير داخلية النمسا المحافظ فولفغانغ سوبو...</td>\n",
       "      <td>politics</td>\n",
       "      <td>كشف وزر دخل نمس حفظ فولفغانغ وبو اهم لمح عدل ق...</td>\n",
       "    </tr>\n",
       "    <tr>\n",
       "      <th>3719</th>\n",
       "      <td>795</td>\n",
       "      <td>\\nأعلنت وزارة شؤون الشباب والرياضة في بلاغ انه...</td>\n",
       "      <td>sport</td>\n",
       "      <td>اعل وزر شؤن شبب ريض بلغ انه بصف استثنائيه تطع ...</td>\n",
       "    </tr>\n",
       "    <tr>\n",
       "      <th>2685</th>\n",
       "      <td>503</td>\n",
       "      <td>\\nقال الأمين العام لحركة الشعب، زهير المغزاوي ...</td>\n",
       "      <td>politics</td>\n",
       "      <td>قال امن عام لحر شعب زهر غزو وضع وزر ربه نقب عل...</td>\n",
       "    </tr>\n",
       "    <tr>\n",
       "      <th>2839</th>\n",
       "      <td>657</td>\n",
       "      <td>\\nكشف رئيس حركة النهضة، راشد الغنوشي في حوار ل...</td>\n",
       "      <td>politics</td>\n",
       "      <td>كشف رئس حرك نهض رشد غنش حور جرد خبر جزر جمع رق...</td>\n",
       "    </tr>\n",
       "    <tr>\n",
       "      <th>1472</th>\n",
       "      <td>545</td>\n",
       "      <td>\\nتمكن سلاح الدفاع الجوي في الجيش السوري من إس...</td>\n",
       "      <td>politics</td>\n",
       "      <td>تمك سلح دفع جوي جيش سور سقط طئر جسس اسرائيليه ...</td>\n",
       "    </tr>\n",
       "    <tr>\n",
       "      <th>210</th>\n",
       "      <td>86</td>\n",
       "      <td>\\nنشرت صحيفة ديلي ميل البريطانية صورة انفجار ح...</td>\n",
       "      <td>diverse news</td>\n",
       "      <td>نشر صحف ديل ميل بريطانيه صور فجر حفل جسرلامبيث...</td>\n",
       "    </tr>\n",
       "  </tbody>\n",
       "</table>\n",
       "</div>"
      ],
      "text/plain": [
       "      Unnamed: 0                                               text  \\\n",
       "3839         915  \\nتخوض الاندية التونسية يومي 20 و 21 جوان 2017...   \n",
       "1950        1023  \\nأقدمت مصورة مجرية على عرقلة أحد اللاجئين الس...   \n",
       "1937        1010  \\nقدم وزير العدل الهولندي أرد فان دير ستيور اس...   \n",
       "1275         348  \\nقال قائد القوات البحرية الإيرانية إن طهران ب...   \n",
       "994           67  \\nكشف وزير داخلية النمسا المحافظ فولفغانغ سوبو...   \n",
       "3719         795  \\nأعلنت وزارة شؤون الشباب والرياضة في بلاغ انه...   \n",
       "2685         503  \\nقال الأمين العام لحركة الشعب، زهير المغزاوي ...   \n",
       "2839         657  \\nكشف رئيس حركة النهضة، راشد الغنوشي في حوار ل...   \n",
       "1472         545  \\nتمكن سلاح الدفاع الجوي في الجيش السوري من إس...   \n",
       "210           86  \\nنشرت صحيفة ديلي ميل البريطانية صورة انفجار ح...   \n",
       "\n",
       "              type                                     Processed Text  \n",
       "3839         sport  تخض ديه ونس يوم قبل جول ربع دور جمع لمسابقتي ر...  \n",
       "1950      politics  قدم صور جره عرقل لجئ سور حمل طفل وقع ارض وذل خ...  \n",
       "1937      politics  قدم وزر عدل هولند ارد فان دير تير استقالته خمس...  \n",
       "1275      politics  قال قئد قوت بحر يرن طهر بدت درب بحر خلج حيط هن...  \n",
       "994       politics  كشف وزر دخل نمس حفظ فولفغانغ وبو اهم لمح عدل ق...  \n",
       "3719         sport  اعل وزر شؤن شبب ريض بلغ انه بصف استثنائيه تطع ...  \n",
       "2685      politics  قال امن عام لحر شعب زهر غزو وضع وزر ربه نقب عل...  \n",
       "2839      politics  كشف رئس حرك نهض رشد غنش حور جرد خبر جزر جمع رق...  \n",
       "1472      politics  تمك سلح دفع جوي جيش سور سقط طئر جسس اسرائيليه ...  \n",
       "210   diverse news  نشر صحف ديل ميل بريطانيه صور فجر حفل جسرلامبيث...  "
      ]
     },
     "execution_count": 17,
     "metadata": {},
     "output_type": "execute_result"
    }
   ],
   "source": [
    "ar_data['Processed Text'] = ar_data['text'].apply(text_prepare, args=(True,))\n",
    "ar_data.sample(10)"
   ]
  },
  {
   "cell_type": "markdown",
   "metadata": {},
   "source": [
    "# Step [3]: Text Splitting and vectorizing\n",
    "### [3.1] Label encoding:"
   ]
  },
  {
   "cell_type": "code",
   "execution_count": 18,
   "metadata": {},
   "outputs": [
    {
     "data": {
      "text/html": [
       "<div>\n",
       "<style scoped>\n",
       "    .dataframe tbody tr th:only-of-type {\n",
       "        vertical-align: middle;\n",
       "    }\n",
       "\n",
       "    .dataframe tbody tr th {\n",
       "        vertical-align: top;\n",
       "    }\n",
       "\n",
       "    .dataframe thead th {\n",
       "        text-align: right;\n",
       "    }\n",
       "</style>\n",
       "<table border=\"1\" class=\"dataframe\">\n",
       "  <thead>\n",
       "    <tr style=\"text-align: right;\">\n",
       "      <th></th>\n",
       "      <th>ArticleId</th>\n",
       "      <th>Text</th>\n",
       "      <th>Category</th>\n",
       "      <th>Processed Text</th>\n",
       "      <th>Category Encoded</th>\n",
       "    </tr>\n",
       "  </thead>\n",
       "  <tbody>\n",
       "    <tr>\n",
       "      <th>516</th>\n",
       "      <td>1612</td>\n",
       "      <td>safin cool on wimbledon newly-crowned australi...</td>\n",
       "      <td>sport</td>\n",
       "      <td>safin cool wimbledon newly crowned australian ...</td>\n",
       "      <td>3</td>\n",
       "    </tr>\n",
       "    <tr>\n",
       "      <th>987</th>\n",
       "      <td>2161</td>\n",
       "      <td>peer-to-peer nets  here to stay  peer-to-peer ...</td>\n",
       "      <td>tech</td>\n",
       "      <td>peer peer net stay peer peer p p network stay ...</td>\n",
       "      <td>4</td>\n",
       "    </tr>\n",
       "    <tr>\n",
       "      <th>317</th>\n",
       "      <td>1396</td>\n",
       "      <td>dawson joins england injury list scrum-half ma...</td>\n",
       "      <td>sport</td>\n",
       "      <td>dawson join england injury list scrum half mat...</td>\n",
       "      <td>3</td>\n",
       "    </tr>\n",
       "    <tr>\n",
       "      <th>1341</th>\n",
       "      <td>312</td>\n",
       "      <td>lacroix label bought by us firm luxury goods g...</td>\n",
       "      <td>economy &amp; business</td>\n",
       "      <td>lacroix label bought u firm luxury good group ...</td>\n",
       "      <td>1</td>\n",
       "    </tr>\n",
       "    <tr>\n",
       "      <th>764</th>\n",
       "      <td>1781</td>\n",
       "      <td>hobbit picture  four years away  lord of the r...</td>\n",
       "      <td>diverse news</td>\n",
       "      <td>hobbit picture four year away lord ring direct...</td>\n",
       "      <td>0</td>\n",
       "    </tr>\n",
       "    <tr>\n",
       "      <th>1164</th>\n",
       "      <td>2158</td>\n",
       "      <td>woodward eyes brennan for lions toulouse s for...</td>\n",
       "      <td>sport</td>\n",
       "      <td>woodward eye brennan lion toulouse former iris...</td>\n",
       "      <td>3</td>\n",
       "    </tr>\n",
       "    <tr>\n",
       "      <th>449</th>\n",
       "      <td>392</td>\n",
       "      <td>industrial revival hope for japan japanese ind...</td>\n",
       "      <td>economy &amp; business</td>\n",
       "      <td>industrial revival hope japan japanese industr...</td>\n",
       "      <td>1</td>\n",
       "    </tr>\n",
       "    <tr>\n",
       "      <th>1224</th>\n",
       "      <td>918</td>\n",
       "      <td>russia gets investment blessing soaring oil sa...</td>\n",
       "      <td>economy &amp; business</td>\n",
       "      <td>russia get investment blessing soaring oil sal...</td>\n",
       "      <td>1</td>\n",
       "    </tr>\n",
       "    <tr>\n",
       "      <th>67</th>\n",
       "      <td>947</td>\n",
       "      <td>tories outlining policing plans local communit...</td>\n",
       "      <td>politics</td>\n",
       "      <td>tory outlining policing plan local community w...</td>\n",
       "      <td>2</td>\n",
       "    </tr>\n",
       "    <tr>\n",
       "      <th>850</th>\n",
       "      <td>2072</td>\n",
       "      <td>lesotho textile workers lose jobs six foreign-...</td>\n",
       "      <td>economy &amp; business</td>\n",
       "      <td>lesotho textile worker lose job six foreign ow...</td>\n",
       "      <td>1</td>\n",
       "    </tr>\n",
       "  </tbody>\n",
       "</table>\n",
       "</div>"
      ],
      "text/plain": [
       "      ArticleId                                               Text  \\\n",
       "516        1612  safin cool on wimbledon newly-crowned australi...   \n",
       "987        2161  peer-to-peer nets  here to stay  peer-to-peer ...   \n",
       "317        1396  dawson joins england injury list scrum-half ma...   \n",
       "1341        312  lacroix label bought by us firm luxury goods g...   \n",
       "764        1781  hobbit picture  four years away  lord of the r...   \n",
       "1164       2158  woodward eyes brennan for lions toulouse s for...   \n",
       "449         392  industrial revival hope for japan japanese ind...   \n",
       "1224        918  russia gets investment blessing soaring oil sa...   \n",
       "67          947  tories outlining policing plans local communit...   \n",
       "850        2072  lesotho textile workers lose jobs six foreign-...   \n",
       "\n",
       "                Category                                     Processed Text  \\\n",
       "516                sport  safin cool wimbledon newly crowned australian ...   \n",
       "987                 tech  peer peer net stay peer peer p p network stay ...   \n",
       "317                sport  dawson join england injury list scrum half mat...   \n",
       "1341  economy & business  lacroix label bought u firm luxury good group ...   \n",
       "764         diverse news  hobbit picture four year away lord ring direct...   \n",
       "1164               sport  woodward eye brennan lion toulouse former iris...   \n",
       "449   economy & business  industrial revival hope japan japanese industr...   \n",
       "1224  economy & business  russia get investment blessing soaring oil sal...   \n",
       "67              politics  tory outlining policing plan local community w...   \n",
       "850   economy & business  lesotho textile worker lose job six foreign ow...   \n",
       "\n",
       "      Category Encoded  \n",
       "516                  3  \n",
       "987                  4  \n",
       "317                  3  \n",
       "1341                 1  \n",
       "764                  0  \n",
       "1164                 3  \n",
       "449                  1  \n",
       "1224                 1  \n",
       "67                   2  \n",
       "850                  1  "
      ]
     },
     "execution_count": 18,
     "metadata": {},
     "output_type": "execute_result"
    }
   ],
   "source": [
    "en_label_encoder = LabelEncoder()\n",
    "en_data['Category Encoded'] = en_label_encoder.fit_transform(en_data['Category'])\n",
    "en_data.sample(10)"
   ]
  },
  {
   "cell_type": "code",
   "execution_count": 19,
   "metadata": {},
   "outputs": [
    {
     "data": {
      "text/html": [
       "<div>\n",
       "<style scoped>\n",
       "    .dataframe tbody tr th:only-of-type {\n",
       "        vertical-align: middle;\n",
       "    }\n",
       "\n",
       "    .dataframe tbody tr th {\n",
       "        vertical-align: top;\n",
       "    }\n",
       "\n",
       "    .dataframe thead th {\n",
       "        text-align: right;\n",
       "    }\n",
       "</style>\n",
       "<table border=\"1\" class=\"dataframe\">\n",
       "  <thead>\n",
       "    <tr style=\"text-align: right;\">\n",
       "      <th></th>\n",
       "      <th>Unnamed: 0</th>\n",
       "      <th>text</th>\n",
       "      <th>type</th>\n",
       "      <th>Processed Text</th>\n",
       "      <th>Category Encoded</th>\n",
       "    </tr>\n",
       "  </thead>\n",
       "  <tbody>\n",
       "    <tr>\n",
       "      <th>2535</th>\n",
       "      <td>353</td>\n",
       "      <td>\\nنفى رئيس كتلة حركة النهضة، نور الدين البحيري...</td>\n",
       "      <td>politics</td>\n",
       "      <td>نفى رئس كتل حرك نهض نور دين بحر اليوم خبر دول ...</td>\n",
       "      <td>2</td>\n",
       "    </tr>\n",
       "    <tr>\n",
       "      <th>2860</th>\n",
       "      <td>678</td>\n",
       "      <td>\\nاعتبر النائب بمجلس نواب الشعب، عبد العزيز ال...</td>\n",
       "      <td>politics</td>\n",
       "      <td>عبر نئب جلس نوب شعب عبد عزز قطي زير ادا رفق عد...</td>\n",
       "      <td>2</td>\n",
       "    </tr>\n",
       "    <tr>\n",
       "      <th>2987</th>\n",
       "      <td>63</td>\n",
       "      <td>\\nفاز اولمبيك مدنين اليوم الاربعاء في لقاء مؤج...</td>\n",
       "      <td>sport</td>\n",
       "      <td>فاز لمب مدن اليوم ربعاء لقء ؤجل جول حدي ربط ثن...</td>\n",
       "      <td>3</td>\n",
       "    </tr>\n",
       "    <tr>\n",
       "      <th>4043</th>\n",
       "      <td>1119</td>\n",
       "      <td>\\nظهر الدولي التونسي أيمن عبد النور ضمن قائمة ...</td>\n",
       "      <td>sport</td>\n",
       "      <td>ظهر دول ونس ايم عبد نور ضمن قئم لعب فرق لنس اس...</td>\n",
       "      <td>3</td>\n",
       "    </tr>\n",
       "    <tr>\n",
       "      <th>694</th>\n",
       "      <td>95</td>\n",
       "      <td>\\nبمكان غير بعيد عن \"اكيلاريا القرطاجية\" مدينة...</td>\n",
       "      <td>economy &amp; business</td>\n",
       "      <td>بمك بعد كيلار قرطاج دين صقر هري رمت زمبر جزر ع...</td>\n",
       "      <td>1</td>\n",
       "    </tr>\n",
       "    <tr>\n",
       "      <th>271</th>\n",
       "      <td>147</td>\n",
       "      <td>\\nتوصلت دراسة حديثة إلى أن التدخين يتسبب في عش...</td>\n",
       "      <td>diverse news</td>\n",
       "      <td>وصل درس حدث تدخ سبب ائه عدد وفي علم وان نصف بل...</td>\n",
       "      <td>1</td>\n",
       "    </tr>\n",
       "    <tr>\n",
       "      <th>104</th>\n",
       "      <td>104</td>\n",
       "      <td>\\nتنظم الهيئة التنفيذية لتظاهرة صفاقس عاصمة لل...</td>\n",
       "      <td>diverse news</td>\n",
       "      <td>نظم هيئ نفذ ظهر صفقس عصم ثقف عرب سبق فتح فنن ش...</td>\n",
       "      <td>1</td>\n",
       "    </tr>\n",
       "    <tr>\n",
       "      <th>3550</th>\n",
       "      <td>626</td>\n",
       "      <td>\\nإختارت لجنة التحكيم بالاتحاد الإفريقي لكرة ا...</td>\n",
       "      <td>sport</td>\n",
       "      <td>خار لجن حكم تحد فرق لكر قدم حكم ونس هيثم قيراط...</td>\n",
       "      <td>3</td>\n",
       "    </tr>\n",
       "    <tr>\n",
       "      <th>2467</th>\n",
       "      <td>285</td>\n",
       "      <td>\\nاعتبر عدنان منصر، أمين عام حزب تونس الإرادة ...</td>\n",
       "      <td>politics</td>\n",
       "      <td>عبر عدن نصر امن عام حزب ونس رده بدر رئس جمهور ...</td>\n",
       "      <td>2</td>\n",
       "    </tr>\n",
       "    <tr>\n",
       "      <th>2435</th>\n",
       "      <td>253</td>\n",
       "      <td>\\nانطلق مساء اليوم بقصر قرطاج، إجتماع رئيس الج...</td>\n",
       "      <td>politics</td>\n",
       "      <td>طلق اليوم قصر قرطاج جمع رئس جمهور بجي قيد سبس ...</td>\n",
       "      <td>2</td>\n",
       "    </tr>\n",
       "  </tbody>\n",
       "</table>\n",
       "</div>"
      ],
      "text/plain": [
       "      Unnamed: 0                                               text  \\\n",
       "2535         353  \\nنفى رئيس كتلة حركة النهضة، نور الدين البحيري...   \n",
       "2860         678  \\nاعتبر النائب بمجلس نواب الشعب، عبد العزيز ال...   \n",
       "2987          63  \\nفاز اولمبيك مدنين اليوم الاربعاء في لقاء مؤج...   \n",
       "4043        1119  \\nظهر الدولي التونسي أيمن عبد النور ضمن قائمة ...   \n",
       "694           95  \\nبمكان غير بعيد عن \"اكيلاريا القرطاجية\" مدينة...   \n",
       "271          147  \\nتوصلت دراسة حديثة إلى أن التدخين يتسبب في عش...   \n",
       "104          104  \\nتنظم الهيئة التنفيذية لتظاهرة صفاقس عاصمة لل...   \n",
       "3550         626  \\nإختارت لجنة التحكيم بالاتحاد الإفريقي لكرة ا...   \n",
       "2467         285  \\nاعتبر عدنان منصر، أمين عام حزب تونس الإرادة ...   \n",
       "2435         253  \\nانطلق مساء اليوم بقصر قرطاج، إجتماع رئيس الج...   \n",
       "\n",
       "                    type                                     Processed Text  \\\n",
       "2535            politics  نفى رئس كتل حرك نهض نور دين بحر اليوم خبر دول ...   \n",
       "2860            politics  عبر نئب جلس نوب شعب عبد عزز قطي زير ادا رفق عد...   \n",
       "2987               sport  فاز لمب مدن اليوم ربعاء لقء ؤجل جول حدي ربط ثن...   \n",
       "4043               sport  ظهر دول ونس ايم عبد نور ضمن قئم لعب فرق لنس اس...   \n",
       "694   economy & business  بمك بعد كيلار قرطاج دين صقر هري رمت زمبر جزر ع...   \n",
       "271         diverse news  وصل درس حدث تدخ سبب ائه عدد وفي علم وان نصف بل...   \n",
       "104         diverse news  نظم هيئ نفذ ظهر صفقس عصم ثقف عرب سبق فتح فنن ش...   \n",
       "3550               sport  خار لجن حكم تحد فرق لكر قدم حكم ونس هيثم قيراط...   \n",
       "2467            politics  عبر عدن نصر امن عام حزب ونس رده بدر رئس جمهور ...   \n",
       "2435            politics  طلق اليوم قصر قرطاج جمع رئس جمهور بجي قيد سبس ...   \n",
       "\n",
       "      Category Encoded  \n",
       "2535                 2  \n",
       "2860                 2  \n",
       "2987                 3  \n",
       "4043                 3  \n",
       "694                  1  \n",
       "271                  1  \n",
       "104                  1  \n",
       "3550                 3  \n",
       "2467                 2  \n",
       "2435                 2  "
      ]
     },
     "execution_count": 19,
     "metadata": {},
     "output_type": "execute_result"
    }
   ],
   "source": [
    "ar_label_encoder = LabelEncoder()\n",
    "ar_data['Category Encoded'] = ar_label_encoder.fit_transform(ar_data['type'])\n",
    "ar_data['Category Encoded'] = ar_data['Category Encoded'].replace(1, 0)\n",
    "ar_data['Category Encoded'] = ar_data['Category Encoded'].replace(0, 1)\n",
    "ar_data.sample(10)"
   ]
  },
  {
   "cell_type": "markdown",
   "metadata": {},
   "source": [
    "### [3.2] Splitting the data to train and text:"
   ]
  },
  {
   "cell_type": "code",
   "execution_count": 20,
   "metadata": {},
   "outputs": [],
   "source": [
    "en_X_train, en_X_test, en_y_train, en_y_test = train_test_split(en_data['Processed Text'], en_data['Category Encoded'], test_size=0.2, random_state=0)\n",
    "ar_X_train, ar_X_test, ar_y_train, ar_y_test = train_test_split(ar_data['Processed Text'], ar_data['Category Encoded'], test_size=0.2, random_state=0)"
   ]
  },
  {
   "cell_type": "markdown",
   "metadata": {},
   "source": [
    "### [3.3] TF-IDF vectorizer:\n",
    "The second approach extends the bag-of-words framework by taking into account total frequencies of words in the corpora. It helps to penalize too frequent words and provide better features space. "
   ]
  },
  {
   "cell_type": "code",
   "execution_count": 21,
   "metadata": {},
   "outputs": [],
   "source": [
    "def tfidf_features(X_train, X_test, ngram_range):\n",
    "    tfidf_vectorizer = TfidfVectorizer(min_df=2, max_df=0.5, ngram_range=(1, ngram_range))\n",
    "    X_train = tfidf_vectorizer.fit_transform(X_train)\n",
    "    X_test = tfidf_vectorizer.transform(X_test)\n",
    "    return X_train, X_test"
   ]
  },
  {
   "cell_type": "code",
   "execution_count": 22,
   "metadata": {},
   "outputs": [],
   "source": [
    "en_features_train, en_features_test = tfidf_features(en_X_train, en_X_test, 2)"
   ]
  },
  {
   "cell_type": "code",
   "execution_count": 23,
   "metadata": {},
   "outputs": [],
   "source": [
    "ar_features_train, ar_features_test = tfidf_features(ar_X_train, ar_X_test, 2)"
   ]
  },
  {
   "cell_type": "markdown",
   "metadata": {},
   "source": [
    "### [3.4] Fit model:\n",
    "This function used to generate a model based on it's name then train that model and calculate it's accuracy on test data."
   ]
  },
  {
   "cell_type": "code",
   "execution_count": 24,
   "metadata": {},
   "outputs": [],
   "source": [
    "def fit_model(model_name, ar_text=False):\n",
    "    if model_name == 'ridge_model':\n",
    "        model_name = RidgeClassifier()\n",
    "    elif model_name == 'random_forest_model':\n",
    "        model_name = RandomForestClassifier()\n",
    "    elif model_name == 'logistic_regression_model':\n",
    "        model_name = LogisticRegression()\n",
    "    elif model_name == 'kneighbors_model':\n",
    "        model_name = KNeighborsClassifier()\n",
    "    elif model_name == 'decision_tree_model':\n",
    "        model_name = DecisionTreeClassifier()\n",
    "    elif model_name == 'gaussian_nb_model':\n",
    "        model_name = GaussianNB()\n",
    "    if ar_text:\n",
    "        model_name.fit(ar_features_train.toarray(), ar_y_train)\n",
    "        model_predictions = model_name.predict(ar_features_test.toarray())\n",
    "        print(\"Accuracy on test: \", accuracy_score(ar_y_test, model_predictions))\n",
    "    else:\n",
    "        model_name.fit(en_features_train.toarray(), en_y_train)\n",
    "        model_predictions = model_name.predict(en_features_test.toarray())\n",
    "        print(\"Accuracy on test: \", accuracy_score(en_y_test, model_predictions))\n",
    "    return model_name"
   ]
  },
  {
   "cell_type": "markdown",
   "metadata": {},
   "source": [
    "### [3.5] Summerize and predict for input text:"
   ]
  },
  {
   "cell_type": "code",
   "execution_count": 25,
   "metadata": {},
   "outputs": [],
   "source": [
    "def summerize_category(input_text, statements, model_name, ar_text=False):\n",
    "    summary_text = nltk_summarizer(input_text, statements)\n",
    "    print(\"-------------------------------------------------------------------------------------------------------------------------------\")\n",
    "    print(\"Text summary\")\n",
    "    print(\"-------------------------------------------------------------------------------------------------------------------------------\")\n",
    "    print(summary_text)\n",
    "    print(\"-------------------------------------------------------------------------------------------------------------------------------\")\n",
    "    input_text_arr = [text_prepare(input_text, ar_text)]\n",
    "    if ar_text:\n",
    "        features_train, features_test = tfidf_features(ar_X_train, input_text_arr, 2)\n",
    "    else:\n",
    "        features_train, features_test = tfidf_features(en_X_train, input_text_arr, 2)\n",
    "    text_predection = model_name.predict(features_test.toarray())\n",
    "    print(\"Text category:\", categories[text_predection[0]])\n",
    "    print(\"-------------------------------------------------------------------------------------------------------------------------------\")"
   ]
  },
  {
   "cell_type": "markdown",
   "metadata": {},
   "source": [
    "#### [3.3.1] Ridge classifier:"
   ]
  },
  {
   "cell_type": "code",
   "execution_count": 26,
   "metadata": {},
   "outputs": [
    {
     "name": "stdout",
     "output_type": "stream",
     "text": [
      "Accuracy on test:  0.9832214765100671\n"
     ]
    }
   ],
   "source": [
    "en_ridge_model = fit_model('ridge_model')\n",
    "pickle.dump(en_ridge_model, open('en_ridge_model.pkl','wb'))"
   ]
  },
  {
   "cell_type": "markdown",
   "metadata": {},
   "source": [
    "#### [3.3.2] Random forest classifier:"
   ]
  },
  {
   "cell_type": "code",
   "execution_count": 27,
   "metadata": {},
   "outputs": [
    {
     "name": "stdout",
     "output_type": "stream",
     "text": [
      "Accuracy on test:  0.9530201342281879\n"
     ]
    }
   ],
   "source": [
    "en_random_forest_model = fit_model('random_forest_model')\n",
    "pickle.dump(en_random_forest_model, open('en_random_forest_model.pkl','wb'))"
   ]
  },
  {
   "cell_type": "markdown",
   "metadata": {},
   "source": [
    "#### [3.3.3]  Logistic regression model:"
   ]
  },
  {
   "cell_type": "code",
   "execution_count": 28,
   "metadata": {},
   "outputs": [
    {
     "name": "stdout",
     "output_type": "stream",
     "text": [
      "Accuracy on test:  0.9899328859060402\n"
     ]
    }
   ],
   "source": [
    "en_logistic_regression_model = fit_model('logistic_regression_model')\n",
    "pickle.dump(en_logistic_regression_model, open('en_logistic_regression_model.pkl','wb'))"
   ]
  },
  {
   "cell_type": "markdown",
   "metadata": {},
   "source": [
    "#### [3.3.4] K-Neighbors classifier:"
   ]
  },
  {
   "cell_type": "code",
   "execution_count": 29,
   "metadata": {},
   "outputs": [
    {
     "name": "stdout",
     "output_type": "stream",
     "text": [
      "Accuracy on test:  0.959731543624161\n"
     ]
    }
   ],
   "source": [
    "en_kneighbors_model = fit_model('kneighbors_model')\n",
    "pickle.dump(en_kneighbors_model, open('en_kneighbors_model.pkl','wb'))"
   ]
  },
  {
   "cell_type": "markdown",
   "metadata": {},
   "source": [
    "#### [3.3.5] Decision treeClassifier:"
   ]
  },
  {
   "cell_type": "code",
   "execution_count": 30,
   "metadata": {},
   "outputs": [
    {
     "name": "stdout",
     "output_type": "stream",
     "text": [
      "Accuracy on test:  0.8758389261744967\n"
     ]
    }
   ],
   "source": [
    "en_decision_tree_model = fit_model('decision_tree_model')\n",
    "pickle.dump(en_decision_tree_model, open('en_decision_tree_model.pkl','wb'))"
   ]
  },
  {
   "cell_type": "markdown",
   "metadata": {},
   "source": [
    "#### [3.3.6] GaussianNB model:"
   ]
  },
  {
   "cell_type": "code",
   "execution_count": 31,
   "metadata": {},
   "outputs": [
    {
     "name": "stdout",
     "output_type": "stream",
     "text": [
      "Accuracy on test:  0.9463087248322147\n"
     ]
    }
   ],
   "source": [
    "en_gaussian_nb_model = fit_model('gaussian_nb_model')\n",
    "pickle.dump(en_gaussian_nb_model, open('en_gaussian_nb_model.pkl','wb'))"
   ]
  },
  {
   "cell_type": "markdown",
   "metadata": {},
   "source": [
    "# Step [4]: Test cases:"
   ]
  },
  {
   "cell_type": "code",
   "execution_count": 32,
   "metadata": {},
   "outputs": [],
   "source": [
    "test_1 = \"The term machine learning was coined in 1959 by Arthur Samuel, an American IBMer and pioneer in the field of\\\n",
    "computer gaming and artificial intelligence.[8][9] A representative book of the machine learning research during the 1960s\\\n",
    "was the Nilsson's book on Learning Machines, dealing mostly with machine learning for pattern classification.[10] Interest\\\n",
    "related to pattern recognition continued into the 1970s, as described by Duda and Hart in 1973.[11] In 1981 a report was given\\\n",
    "on using teaching strategies so that a neural network learns to recognize 40 characters (26 letters, 10 digits, and 4 special\\\n",
    "symbols) from a computer terminal.[12] Tomamom M. Mitchell provided a widely quoted, more formal definition of the algorithms\\\n",
    "studied in the machine learning field: A computer program is said to learn from experience E with respect to some class of\\\n",
    "tasks T and performance measure P if its performance at tasks in T, as measured by P, improves with experience E.\\\n",
    "[13] This definition of the tasks in which machine learning is concerned offers a fundamentally operational definition rather\\\n",
    "than defining the field in cognitive terms. This follows Alan Turing's proposal in his paper Computing Machinery\\\n",
    "and Intelligence, in which the question Can machines think? is replaced with the question Can machines do what we\\\n",
    "(as thinking entities) can do?.[14] Modern day machine learning has two objectives, one is to classify data based on models\\\n",
    "which have been developed, the other purpose is to make predictions for future outcomes based on these model.\\\n",
    "A hypothetical algorithm specific to classifying data may use computer vision of moles coupled with supervised learning\\\n",
    "in order to train it to classify the cancerous moles. Where as, a machine learning algoritihim for stock trading may inform\\\n",
    "the trader of future potential predictions.[15] Artificial intelligence Machine Learning as subfield of AI[16] Part of Machine\\\n",
    "Learning as subfield of AI or part of AI as subfield of Machine Learning[17] As a scientific endeavor, machine learning grew\\\n",
    "out of the quest for artificial intelligence. In the early days of AI as an academic discipline, some researchers were\\\n",
    "interested in having machines learn from data. They attempted to approach the problem with various symbolic methods,\\\n",
    "as well as what was then termed neural networks; these were mostly perceptrons and other models that were later found\\\n",
    "to be reinventions of the generalized linear models of statistics.[18] Probabilistic reasoning was also employed,\\\n",
    "especially in automated medical diagnosis.[19]:488 However, an increasing emphasis on the logical, knowledge-based approach\\\n",
    "caused a rift between AI and machine learning. Probabilistic systems were plagued by theoretical and practical problems\\\n",
    "of data acquisition and representation.[19]:488 By 1980, expert systems had come to dominate AI, and statistics was out of\\\n",
    "favor.[20] Work on symbolic/knowledge-based learning did continue within AI, leading to inductive logic programming,\\\n",
    "but the more statistical line of research was now outside the field of AI proper, in pattern recognition and information\\\n",
    "retrieval.[19]:708–710; 755 Neural networks research had been abandoned by AI and computer science around the same time.\\\n",
    "This line, too, was continued outside the AI/CS field, as connectionism, by researchers from other disciplines including\\\n",
    "Hopfield, Rumelhart and Hinton. Their main success came in the mid-1980s with the reinvention of backpropagation.\\\n",
    "[19]:25 Machine learning (ML), reorganized as a separate field, started to flourish in the 1990s. The field changed its goal\\\n",
    "from achieving artificial intelligence to tackling solvable problems of a practical nature. It shifted focus away from\\\n",
    "the symbolic approaches it had inherited from AI, and toward methods and models borrowed from statistics and probability\\\n",
    "theory.[20] As of 2020, many sources continue to assert that machine learning remains a subfield of AI.[21][22][16] The main\\\n",
    "disagreement is whether all of ML is part of AI, as this would mean that anyone using ML could claim they are using AI.\\\n",
    "Others have the view that not all of ML is part of AI[23][24][25] where only an intelligent subset of ML is part of AI.\\\n",
    "[26] The question to what is the difference between ML and AI is answered by Judea Pearl in The Book of Why.\\\n",
    "[27] Accordingly ML learns and predicts based on passive observations, whereas AI implies an agent interacting with the\\\n",
    "environment to learn and take actions that maximize its chance of successfully achieving its goals.[30]\""
   ]
  },
  {
   "cell_type": "code",
   "execution_count": 33,
   "metadata": {},
   "outputs": [
    {
     "name": "stdout",
     "output_type": "stream",
     "text": [
      "-------------------------------------------------------------------------------------------------------------------------------\n",
      "Text summary\n",
      "-------------------------------------------------------------------------------------------------------------------------------\n",
      "[8][9] A representative book of the machine learning research during the 1960swas the Nilsson's book on Learning Machines, dealing mostly with machine learning for pattern classification. The term machine learning was coined in 1959 by Arthur Samuel, an American IBMer and pioneer in the field ofcomputer gaming and artificial intelligence. [19]:25 Machine learning (ML), reorganized as a separate field, started to flourish in the 1990s. [20] As of 2020, many sources continue to assert that machine learning remains a subfield of AI. Where as, a machine learning algoritihim for stock trading may informthe trader of future potential predictions. [19]:488 However, an increasing emphasis on the logical, knowledge-based approachcaused a rift between AI and machine learning. The field changed its goalfrom achieving artificial intelligence to tackling solvable problems of a practical nature. It shifted focus away fromthe symbolic approaches it had inherited from AI, and toward methods and models borrowed from statistics and probabilitytheory. In the early days of AI as an academic discipline, some researchers wereinterested in having machines learn from data. This follows Alan Turing's proposal in his paper Computing Machineryand Intelligence, in which the question Can machines think?\n",
      "-------------------------------------------------------------------------------------------------------------------------------\n",
      "Text category: Technology\n",
      "-------------------------------------------------------------------------------------------------------------------------------\n"
     ]
    }
   ],
   "source": [
    "summerize_category(test_1, 10, en_random_forest_model)"
   ]
  },
  {
   "cell_type": "code",
   "execution_count": 34,
   "metadata": {},
   "outputs": [],
   "source": [
    "test_2 = \"Founded on 6 March 1902 as Madrid Football Club, the club has traditionally worn a white home kit since inception. \\\n",
    "The word real is Spanish for \\\"royal\\\" and was bestowed to the club by King Alfonso XIII in 1920 together with the royal crown\\\n",
    "in the emblem. The team has played its home matches in the 81,044-capacity Santiago Bernabéu Stadium in downtown Madrid since\\\n",
    "1947. Unlike most European sporting entities, Real Madrids members (socios) have owned and operated the club throughout its\\\n",
    "history. The club was estimated to be worth €3.8 billion ($4.2 billion) in 2019, and it was the second highest-earning football\\\n",
    "club in the world, with an annual revenue of €757.3 million in 2019.[7][8] The club is one of the most widely supported teams\\\n",
    "in the world.[9] Real Madrid is one of three founding members of La Liga that have never been relegated from the top division\\\n",
    "since its inception in 1929, along with Athletic Bilbao and Barcelona. The club holds many long-standing rivalries,\\\n",
    "most notably El Clásico with Barcelona and El Derbi with Atlético Madrid. Real Madrid established itself as a major force in\\\n",
    "both Spanish and European football during the 1950s, winning five consecutive European Cups and reaching the final seven times.\\\n",
    "This success was replicated in the league, which the club won five times in the space of seven years. This team, which\\\n",
    "consisted of players Alfredo Di Stéfano, Ferenc Puskás, Francisco Gento, and Raymond Kopa, is considered by some in the sport\\\n",
    "to be the greatest team of all time.[10][11][12] In domestic football, the club has won 66 trophies; a record 34 La Liga\\\n",
    "titles, 19 Copa del Rey, 11 Supercopa de España, a Copa Eva Duarte, and a Copa de la Liga.[13] In European and worldwide\\\n",
    "competitions, Real Madrid have won a record 26 trophies; a record 13 European Cup/UEFA Champions League titles, two UEFA Cups\\\n",
    "and four UEFA Super Cups. In international football, they have achieved a record seven club world championships.[note 1] Real\\\n",
    "Madrid was recognised as the FIFA Club of the 20th Century on 11 December 2000 with 42.35% of the vote,[15] and received\\\n",
    "the FIFA Centennial Order of Merit on 20 May 2004.[16] The club was also awarded Best European Club of the 20th Century by the\\\n",
    "IFFHS on 11 May 2010. In June 2017, the team succeeded in becoming the first club to win consecutive Champions League titles, \\\n",
    "then made it three in a row and four in five seasons in May 2018, extending their lead atop the UEFA club rankings. As of 2020,\\\n",
    "Real Madrid are ranked third behind Bayern Munich and Barcelona.[17][18]\""
   ]
  },
  {
   "cell_type": "code",
   "execution_count": 35,
   "metadata": {},
   "outputs": [
    {
     "name": "stdout",
     "output_type": "stream",
     "text": [
      "-------------------------------------------------------------------------------------------------------------------------------\n",
      "Text summary\n",
      "-------------------------------------------------------------------------------------------------------------------------------\n",
      "Founded on 6 March 1902 as Madrid Football Club, the club has traditionally worn a white home kit since inception. [16] The club was also awarded Best European Club of the 20th Century by theIFFHS on 11 May 2010. In international football, they have achieved a record seven club world championships. The word real is Spanish for \"royal\" and was bestowed to the club by King Alfonso XIII in 1920 together with the royal crownin the emblem. [13] In European and worldwidecompetitions, Real Madrid have won a record 26 trophies; a record 13 European Cup/UEFA Champions League titles, two UEFA Cupsand four UEFA Super Cups.\n",
      "-------------------------------------------------------------------------------------------------------------------------------\n",
      "Text category: Sport\n",
      "-------------------------------------------------------------------------------------------------------------------------------\n"
     ]
    }
   ],
   "source": [
    "summerize_category(test_2, 5, en_ridge_model)"
   ]
  },
  {
   "cell_type": "code",
   "execution_count": 36,
   "metadata": {},
   "outputs": [],
   "source": [
    "test_3 = \"Born and raised in Queens, New York City, Trump attended Fordham University for two years and received a bachelor's \\\n",
    "degree in economics from the Wharton School of the University of Pennsylvania. He became president of his father Fred Trump's \\\n",
    "real estate business in 1971, where he renamed it The Trump Organization, and expanded its operations to building or renovating \\\n",
    "skyscrapers, hotels, casinos, and golf courses. Trump later started various side ventures, mostly by licensing his name. Trump\\\n",
    "and his businesses have been involved in more than 4,000 state and federal legal actions, including six bankruptcies. He owned \\\n",
    "the Miss Universe brand of beauty pageants from 1996 to 2015, and produced and hosted the reality television series The \\\n",
    "Apprentice from 2004 to 2015. Trump's political positions have been described as populist, protectionist, isolationist, and\\\n",
    "nationalist. He entered the 2016 presidential race as a Republican and was elected in a surprise Electoral College victory over\\\n",
    "Democratic nominee Hillary Clinton while losing the popular vote.[a] He became the oldest first-term U.S. president[b] and the\\\n",
    "first without prior military or government service. His election and policies have sparked numerous protests. Trump has made\\\n",
    "many false and misleading statements during his campaigns and presidency, to a degree unprecedented in American politics. Many\\\n",
    "of his comments and actions have been characterized as racially charged or racist. During his presidency, Trump ordered a\\\n",
    "travel ban on citizens from several Muslim-majority countries, citing security concerns; after legal challenges, the Supreme\\\n",
    "Court upheld the policy's third revision. He enacted a tax-cut package for individuals and businesses, rescinding the\\\n",
    "individual health insurance mandate penalty of the Affordable Care Act (ACA), but has failed to repeal and replace the ACA as\\\n",
    "a whole. He appointed Neil Gorsuch, Brett Kavanaugh and Amy Coney Barrett to the Supreme Court. In foreign policy, Trump has\\\n",
    "pursued an America First agenda, renegotiating the North American Free Trade Agreement (NAFTA) as the United\\\n",
    "States–Mexico–Canada Agreement (USMCA) and withdrawing the U.S. from the Trans-Pacific Partnership trade negotiations, the\\\n",
    "Paris Agreement on climate change, and the Iran nuclear deal. He imposed import tariffs which triggered a trade war with China,\\\n",
    "moved the U.S. embassy in Israel to Jerusalem, and withdrew U.S. troops from northern Syria. He met three times with North\\\n",
    "Korean leader Kim Jong-un, but talks on denuclearization broke down in 2019. He reacted slowly to the COVID-19 pandemic,\\\n",
    "downplayed the threat, ignored or contradicted many recommendations from health officials, and promoted false information\\\n",
    "about unproven treatments and the availability of testing. A special counsel investigation led by Robert Mueller found\\\n",
    "that Trump and his campaign benefited from Russian interference in the 2016 presidential election, but did not find sufficient\\\n",
    "evidence to press charges of criminal conspiracy or coordination with Russia.[c] Mueller also investigated Trump for\\\n",
    "obstruction of justice, and his report neither indicted nor exonerated Trump on that offense. Trump later pardoned five people\\\n",
    "who were convicted as a result of the Russia investigation. After Trump solicited Ukraine to investigate his political\\\n",
    "rival Joe Biden, the House of Representatives impeached him in December 2019 for abuse of power and obstruction of Congress.\\\n",
    "The Senate acquitted him of both charges in February 2020. Trump lost the 2020 presidential election to Biden but refused to\\\n",
    "concede defeat. He made unsubstantiated accusations of electoral fraud, mounted a series of unsuccessful legal challenges to\\\n",
    "the results, and ordered government officials not to cooperate in the presidential transition.\""
   ]
  },
  {
   "cell_type": "code",
   "execution_count": 37,
   "metadata": {},
   "outputs": [
    {
     "name": "stdout",
     "output_type": "stream",
     "text": [
      "-------------------------------------------------------------------------------------------------------------------------------\n",
      "Text summary\n",
      "-------------------------------------------------------------------------------------------------------------------------------\n",
      "He made unsubstantiated accusations of electoral fraud, mounted a series of unsuccessful legal challenges tothe results, and ordered government officials not to cooperate in the presidential transition. During his presidency, Trump ordered atravel ban on citizens from several Muslim-majority countries, citing security concerns; after legal challenges, the SupremeCourt upheld the policy's third revision.\n",
      "-------------------------------------------------------------------------------------------------------------------------------\n",
      "Text category: Politic\n",
      "-------------------------------------------------------------------------------------------------------------------------------\n"
     ]
    }
   ],
   "source": [
    "summerize_category(test_3, 2, en_ridge_model)"
   ]
  },
  {
   "cell_type": "code",
   "execution_count": 38,
   "metadata": {},
   "outputs": [
    {
     "name": "stdout",
     "output_type": "stream",
     "text": [
      "Accuracy on test:  0.9316909294512878\n"
     ]
    }
   ],
   "source": [
    "ar_ridge_model = fit_model('ridge_model', True)\n",
    "pickle.dump(ar_ridge_model, open('ar_ridge_model.pkl','wb'))"
   ]
  },
  {
   "cell_type": "code",
   "execution_count": 39,
   "metadata": {},
   "outputs": [
    {
     "name": "stdout",
     "output_type": "stream",
     "text": [
      "Accuracy on test:  0.8745800671892497\n"
     ]
    }
   ],
   "source": [
    "ar_random_forest_model = fit_model('random_forest_model', True)\n",
    "pickle.dump(ar_random_forest_model, open('ar_random_forest_model.pkl','wb'))"
   ]
  },
  {
   "cell_type": "code",
   "execution_count": 40,
   "metadata": {},
   "outputs": [
    {
     "name": "stdout",
     "output_type": "stream",
     "text": [
      "Accuracy on test:  0.921612541993281\n"
     ]
    }
   ],
   "source": [
    "ar_logistic_regression_model = fit_model('logistic_regression_model', True)\n",
    "pickle.dump(ar_logistic_regression_model, open('ar_logistic_regression_model.pkl','wb'))"
   ]
  },
  {
   "cell_type": "code",
   "execution_count": 41,
   "metadata": {},
   "outputs": [
    {
     "name": "stdout",
     "output_type": "stream",
     "text": [
      "Accuracy on test:  0.25083986562150057\n"
     ]
    }
   ],
   "source": [
    "ar_kneighbors_model = fit_model('kneighbors_model', True)\n",
    "pickle.dump(ar_kneighbors_model, open('ar_kneighbors_model.pkl','wb'))"
   ]
  },
  {
   "cell_type": "code",
   "execution_count": 42,
   "metadata": {},
   "outputs": [
    {
     "name": "stdout",
     "output_type": "stream",
     "text": [
      "Accuracy on test:  0.8029115341545353\n"
     ]
    }
   ],
   "source": [
    "ar_decision_tree_model = fit_model('decision_tree_model', True)\n",
    "pickle.dump(ar_decision_tree_model, open('ar_decision_tree_model.pkl','wb'))"
   ]
  },
  {
   "cell_type": "code",
   "execution_count": 43,
   "metadata": {},
   "outputs": [
    {
     "name": "stdout",
     "output_type": "stream",
     "text": [
      "Accuracy on test:  0.8801791713325868\n"
     ]
    }
   ],
   "source": [
    "ar_gaussian_nb_model = fit_model('gaussian_nb_model', True)\n",
    "pickle.dump(ar_gaussian_nb_model, open('ar_gaussian_nb_model.pkl','wb'))"
   ]
  },
  {
   "cell_type": "code",
   "execution_count": 44,
   "metadata": {},
   "outputs": [],
   "source": [
    "ar_test_1 = \"التكنولوجيا هي كلمة ليست عربية ولكن لها مرادف معرب,\\\n",
    "أقترحه مجمع اللغة العربية بدمشق, واعتمدته الجامعة العربية وبعض الدول العربية, ولكن ليس كلها. و هي كلمة شائعة لها أكثر من مصطلح فالتكنولوجيا \\\n",
    "هي علم تطبيقي يهتم بدراسة الإضافات والتطور في العديد من المجالات مثل الصناعات و الفنون والحرف وكل ما يتعلق بها من مواد ووسائل مستعمل.\\\n",
    "والمفهوم الشّائع لمصطلح التّكنولوجيا هو استعمال الكمبيوتر والأجهزة الحديثة، \\\n",
    "وهذه النّظرة محدودة الرؤية ، فالكمبيوتر نتيجة من نتائج التكنولوجيا، بينما التكنولوجيا الّتي يقصدها هذا المقرّر هي طريقة للتّفكير، وحلّ المشكلات، وهي أسلوب التّفكير الّذي\\\n",
    "يوصل الفرد إلى النتائج المرجوّة أي إنّها وسيلة وليست نتيجة، وإنّها طريقة التّفكير في استخدام المعارف، والمعلومات، والمهارات، بهدف الوصول إلى نتائج لإشباع حاجة الإنسان وزيادة قدراته.\\\n",
    " أوّل فائدة تستحقّ الذكر هي ما أسهمت بهِ الثورة العلميّة والتكنولوجيّة في مجال مٌكافحة الأمراض، وتطوير المضادّات الحيوية وهو ما يُدعى بالتكنولوجيا الطبيّة الحيويّة، وأيضاُ مساهمة الأجهزة\\\n",
    " الطبيّة الحديثة في مجالات تخطيط القلب والتصوير الإشعاعي في تشخيص الأمراض، والوصول إلى نتائج مُذهلة في هذا النطاق، أضِف إلى ذلك إدخال التكنولوجيا في إجراء العمليّات الجراحيةّ\\\n",
    " المعقّدة والدقيقة والجراحة بالمنظار والقسطرة، وكذلك تكنولوجيا صناعة الدواء مما ساعدَ كثيراً في شفاء الحالات المُستعصيّة، وتسهيل العمل على الطاقم البشري من أطبّاء وممرضين وصيادلة.\\\n",
    " كما نذكُر فائدة التكنولوجيا في التسهيل على الناس في التنقّل من خلال وسائل النقل والمواصلات الحديثة؛ كظهُور القطارات الكهربائية، والطائرات، وأنظمة النقل البحريّ المتطوّرة.\\\n",
    " وأيضا تساعد التكنولوجيا علي تسهيل مهامّ البحث العلميّ والوصول إلى المعلومة بأقصر وقت وأقلّ تكلفة من السابق؛ حيث توفّر شبكة الإنترنت.\""
   ]
  },
  {
   "cell_type": "code",
   "execution_count": 45,
   "metadata": {},
   "outputs": [
    {
     "name": "stdout",
     "output_type": "stream",
     "text": [
      "-------------------------------------------------------------------------------------------------------------------------------\n",
      "Text summary\n",
      "-------------------------------------------------------------------------------------------------------------------------------\n",
      "التكنولوجيا هي كلمة ليست عربية ولكن لها مرادف معرب,أقترحه مجمع اللغة العربية بدمشق, واعتمدته الجامعة العربية وبعض الدول العربية, ولكن ليس كلها. كما نذكُر فائدة التكنولوجيا في التسهيل على الناس في التنقّل من خلال وسائل النقل والمواصلات الحديثة؛ كظهُور القطارات الكهربائية، والطائرات، وأنظمة النقل البحريّ المتطوّرة. وأيضا تساعد التكنولوجيا علي تسهيل مهامّ البحث العلميّ والوصول إلى المعلومة بأقصر وقت وأقلّ تكلفة من السابق؛ حيث توفّر شبكة الإنترنت.\n",
      "-------------------------------------------------------------------------------------------------------------------------------\n",
      "Text category: Diverse News\n",
      "-------------------------------------------------------------------------------------------------------------------------------\n"
     ]
    }
   ],
   "source": [
    "summerize_category(ar_test_1, 4, ar_ridge_model, True)"
   ]
  },
  {
   "cell_type": "code",
   "execution_count": 46,
   "metadata": {},
   "outputs": [],
   "source": [
    "ar_test_2 = \"مع تبوأ بيب غوارديولا دفة الإدارة الفنية لبرشلونة تغيرت أمور كثيرة في الفريق سواء بانضباط اللاعبين أو بأدائهم داخل الملعب. خلال عامه الأول مع برشلونة حقق غوارديولا ما لم يحققه أي مدرب في العالم، ففي تاريخ 2 مايو عام 2009، خاض برشلونة مبارة الكلاسيكو مع غريمه التقليدي ريال مدريد في معقل الأخير، ملعب سانتياغو برنابيو، وحقق برشلونة حينها انتصارًا مدويًا، ففاز بنتيجة 6-2. ضمنت تلك النتيجة إلى حد كبير فوز برشلونة بلقب الليغا، وبعدها بأسبوعين التقى برشلونة مع أتلتيك بلباو في نهائي كأس إسبانيا، وحقق برشلونة اللقب الذي كان غائبا عن خزائنه مدة 13 عامًا، وفي أواخر ذات الشهر حقق برشلونة لقب دوري أبطال أوروبا على حساب نادي مانشستر يونايتد الإنجليزي، وليكون ذلك اللقب الثالث للنادي بتلك البطولة. في شهر أغسطس من ذلك العام ظفر برشلونة ببطولتي كأس السوبر الإسباني على حساب أتلتيك بيلباو للمرة الثامنة بتاريخه وبطولة كأس السوبر الأوروبي على حساب نادي شاختار دونستيك الأوكراني، وفي أواخر العام ذاته شارك النادي كممثل لقارة أوروبا في بطولة كأس العالم لأندية كرة القدم محققًا لقبها لأول مرة في تاريخه بعد انتصاره في المباراة النهائية على نادي إستوديانتيس دو لا بلاتا الأرجنتيني في نهائي مثير امتد لشوطين إضافيين، ليسدل الفريق الستار عن ذلك العام الاستثنائي بإنجاز غير مسبوق، بلغ 6 ألقاب بعام واحد، ويعرف باسم السداسية التاريخية. من أهم النجوم خلال ذلك العام: ليونيل ميسي، تشافي هيرنانديز، أندريس إنيستا رغم أن الغلة خلال عام 2010 لم تكن كسابقتها إلا أن الإبداع والأداء الراقي ظل مستمرًا. أبرز ما حدث في ذلك العام من انجازات كان الظفر ببطولة الليغا للمرة العشرين بتاريخ النادي، وكأس السوبر الإسباني للمرة التاسعة، وخروج برشلونة من دوري أبطال أوروبا أمام إنتر ميلان الإيطالي من الدور نصف النهائي، وخرج كذلك مبكرًا من كأس الملك أمام نادي إشبيلية. أما على صعيد الانتقالات، فقد غادر خلال صيف ذلك العام الفرنسي تيري هنري، وسبقه في الرحيل الكميروني صامويل ايتو في صفقة مبادلة مع نادي الانتر الإيطالي أتى بموجبها اللاعب السويدي إبراهيموفيتش في صفقة تعد الأكبر بتاريخ النادي. لم يمكث ابراهيموفيتش سوى عام واحد أعير بعده إلى لنادي ميلان الإيطالي، وضُم المهاجم الإسباني دافيد فيا من نادي فالنسيا خلال صيف عام 2010. إداريًا فقد جرت انتخابات رئاسة للنادي، وصل على أثرها ساندرو روسيل لرئاسة النادي خلفًا للمحامي خوان لابورتا. في افتتاحية موسم 2010-2011 حقق النادي لقب كأس السوبر الإسباني للمرة التاسعة في تاريخه، وشهد ذات الموسم صراعًا محتدمًا بين برشلونة وغريمه ريال مدريد، ولم يقتصر هذا الصراع على بطولة الليغا، التي حافظ عليها الفريق للمرة الثالثة على التوالي والحادية والعشرين في تاريخ النادي، إذ امتد الصراع ليشمل بطولتي كأس الملك ودوري أبطال أوروبا. وصل برشلونة المباراة النهائية ببطولة كأس إسبانيا ليلتقي الريال الذي استطاع خطف هدف الفوز بالوقت الإضافي الأول، وبعد تلك المباراة بأقل من أسبوع التقى برشلونة مجددًا مع ريال مدريد في الدور نصف النهائي لبطولة دوري أبطال أوروبا واستطاع برشلونة الإطاحة بريال مدريد والوصول للمباراة النهائية بتلك البطولة، والتي جمعت برشلونة مع نادي مانشستر يونايتد الإنجليزي، على ملعب ويمبلي في العاصمة البريطانية لندن، انتصر على إثرها فريق المدرب بيب غوارديولا بنتيجة 3-1 بعد أداء خيالي لنجوم الفريق في المباراة النهائية، محققين اللقب الرابع للكتلان بتلك البطولة، ومحققين أيضًا رقما قياسيا في عدد مرات الوصول لمبارة نهائية في إطار بطولات الأندية الأوروبية. لم تتوقف إنجازات النادي خلال عام 2011 عند ذلك، ففي مستهل الموسم الكروي 2011- 2012 وتحديدًا في منتصف شهر أغسطس، فاز النادي بكأس السوبر الإسباني عندما تفوق على غريمة التقليدي فريق ريال مدريد، ولم يمض أسبوع بعد تحقيق لقب تلك البطولة حتى حقق النادي كأس السوبر الأوروبي على حساب نادي بورتو البرتغالي، لتزداد غلة النادي من الألقاب ويصبح جوسيب غوارديولا أنجح مدرب في تاريخ النادي من حيث عدد الألقاب، وفي أواخر عام 2011 شارك النادي ببطولة كأس العالم للأندية في اليابان وتمكن من الظفر بلقب تلك البطولة بعد تفوقة في المباراة النهائية على فريق سانتوس البرازيلي\""
   ]
  },
  {
   "cell_type": "code",
   "execution_count": 47,
   "metadata": {},
   "outputs": [
    {
     "name": "stdout",
     "output_type": "stream",
     "text": [
      "-------------------------------------------------------------------------------------------------------------------------------\n",
      "Text summary\n",
      "-------------------------------------------------------------------------------------------------------------------------------\n",
      "لم يمكث ابراهيموفيتش سوى عام واحد أعير بعده إلى لنادي ميلان الإيطالي، وضُم المهاجم الإسباني دافيد فيا من نادي فالنسيا خلال صيف عام 2010. من أهم النجوم خلال ذلك العام: ليونيل ميسي، تشافي هيرنانديز، أندريس إنيستا رغم أن الغلة خلال عام 2010 لم تكن كسابقتها إلا أن الإبداع والأداء الراقي ظل مستمرًا. إداريًا فقد جرت انتخابات رئاسة للنادي، وصل على أثرها ساندرو روسيل لرئاسة النادي خلفًا للمحامي خوان لابورتا. مع تبوأ بيب غوارديولا دفة الإدارة الفنية لبرشلونة تغيرت أمور كثيرة في الفريق سواء بانضباط اللاعبين أو بأدائهم داخل الملعب.\n",
      "-------------------------------------------------------------------------------------------------------------------------------\n",
      "Text category: Sport\n",
      "-------------------------------------------------------------------------------------------------------------------------------\n"
     ]
    }
   ],
   "source": [
    "summerize_category(ar_test_2, 6, ar_ridge_model, True)"
   ]
  }
 ],
 "metadata": {
  "kernelspec": {
   "display_name": "Python 3.10.8 64-bit",
   "language": "python",
   "name": "python3"
  },
  "language_info": {
   "codemirror_mode": {
    "name": "ipython",
    "version": 3
   },
   "file_extension": ".py",
   "mimetype": "text/x-python",
   "name": "python",
   "nbconvert_exporter": "python",
   "pygments_lexer": "ipython3",
   "version": "3.10.8"
  },
  "vscode": {
   "interpreter": {
    "hash": "42ac2bbbda3723635b4d79812a5d5c7fd30e1eda2aeaadb4b3ca1545733c2df7"
   }
  }
 },
 "nbformat": 4,
 "nbformat_minor": 4
}
